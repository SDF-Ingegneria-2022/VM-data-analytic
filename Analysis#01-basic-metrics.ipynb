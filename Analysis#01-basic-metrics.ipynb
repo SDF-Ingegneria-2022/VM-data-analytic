{
 "cells": [
  {
   "attachments": {},
   "cell_type": "markdown",
   "metadata": {},
   "source": [
    "# VotaMeglio: analisi dei dati e KPI\n",
    "\n",
    "*Lena Emanuele, Alexandru Paraschiv Dumitru, Urban Denis, Josè Zito Dalla Torre*\n",
    "\n",
    "L'obiettivo di questo notebook è definire delle proposte di KPI per **misurare la diffusione del metodo del giudizio maggioritario**. La misurazione di questo obiettivo può essere effettuata tenendo traccia di due fenomeni:\n",
    "\n",
    "1. l'utilizzo del metodo per dare voti (diffusione dal pt. di vista del votante)\n",
    "2. la creazione di nuovi sondaggi che fanno uso del metodo maggioritario (diffusione dal pt. di vista del proponente)\n",
    "\n",
    "Su questi fenomeni si propongono delle metriche, per il momento ricavate a partire da i dati sulle visite e sul numero di utenti della piattaforma. "
   ]
  },
  {
   "attachments": {},
   "cell_type": "markdown",
   "metadata": {},
   "source": [
    "## Estrazione dei dati sul numero di utenti\n",
    "\n",
    "Per estrarre i dati sul numero di utenti e visite della piattaforma, si generano due report di Google Analytic: \n",
    "\n",
    "1. il primo riporta le visite e gli utenti sulle pagine specifiche (identificate dal path univoco) \n",
    "2. il secondo riporta le visite e gli utenti su intere \"classi di pagine\" (es. tutte le specifiche pagine di voto con un criterio dei vari sondaggi vengono raggruppate in una voce sola)"
   ]
  },
  {
   "cell_type": "code",
   "execution_count": 71,
   "metadata": {},
   "outputs": [],
   "source": [
    "import pandas as pd"
   ]
  },
  {
   "cell_type": "code",
   "execution_count": 72,
   "metadata": {},
   "outputs": [],
   "source": [
    "def parse_ga_report(filename) -> pd.DataFrame:\n",
    "    \"\"\"read a GA report and extract \n",
    "    the main table as pandas dataframe\"\"\"\n",
    "\n",
    "    # read file content\n",
    "    with open(filename, 'r') as f:\n",
    "        lines: list = f.readlines()\n",
    "        f.close()\n",
    "\n",
    "    content = \"\"\n",
    "    for line in lines: \n",
    "        content += line\n",
    "\n",
    "    # isolate various tables\n",
    "    headers_and_tables = content.split(\"\\n\\n\")\n",
    "\n",
    "    # make a dataframe from the main data table\n",
    "    table_lines = headers_and_tables[-1].split('\\n')\n",
    "    df = pd.DataFrame([x.split(',') for x in table_lines[1:]])\n",
    "    \n",
    "    # set table col names\n",
    "    df.columns = table_lines[0].split(\",\")\n",
    "\n",
    "    return df\n"
   ]
  },
  {
   "cell_type": "code",
   "execution_count": 73,
   "metadata": {},
   "outputs": [],
   "source": [
    "users_on_pages = parse_ga_report(\"data/070123/input/utenti-su-pagina.csv\")\n",
    "users_on_pages_classes = parse_ga_report(\"data/070123/input/utenti-su-classe-pagina.csv\")"
   ]
  },
  {
   "cell_type": "code",
   "execution_count": 74,
   "metadata": {},
   "outputs": [
    {
     "data": {
      "text/html": [
       "<div>\n",
       "<style scoped>\n",
       "    .dataframe tbody tr th:only-of-type {\n",
       "        vertical-align: middle;\n",
       "    }\n",
       "\n",
       "    .dataframe tbody tr th {\n",
       "        vertical-align: top;\n",
       "    }\n",
       "\n",
       "    .dataframe thead th {\n",
       "        text-align: right;\n",
       "    }\n",
       "</style>\n",
       "<table border=\"1\" class=\"dataframe\">\n",
       "  <thead>\n",
       "    <tr style=\"text-align: right;\">\n",
       "      <th></th>\n",
       "      <th>Percorso pagina e classe schermata</th>\n",
       "      <th>Visualizzazioni</th>\n",
       "      <th>Utenti</th>\n",
       "      <th>Visualizzazioni per utente</th>\n",
       "      <th>Durata media del coinvolgimento</th>\n",
       "      <th>Conteggio eventi</th>\n",
       "      <th>Conversioni</th>\n",
       "      <th>Entrate totali</th>\n",
       "    </tr>\n",
       "  </thead>\n",
       "  <tbody>\n",
       "    <tr>\n",
       "      <th>0</th>\n",
       "      <td>/</td>\n",
       "      <td>339</td>\n",
       "      <td>52</td>\n",
       "      <td>6.519230769230769</td>\n",
       "      <td>85.76923076923077</td>\n",
       "      <td>991</td>\n",
       "      <td>0</td>\n",
       "      <td>0</td>\n",
       "    </tr>\n",
       "    <tr>\n",
       "      <th>1</th>\n",
       "      <td>/gestione-sondaggi/</td>\n",
       "      <td>59</td>\n",
       "      <td>21</td>\n",
       "      <td>2.8095238095238093</td>\n",
       "      <td>21.61904761904762</td>\n",
       "      <td>158</td>\n",
       "      <td>0</td>\n",
       "      <td>0</td>\n",
       "    </tr>\n",
       "    <tr>\n",
       "      <th>2</th>\n",
       "      <td>/voti-e-risultati/1/vota/giudizio-maggioritario/</td>\n",
       "      <td>39</td>\n",
       "      <td>22</td>\n",
       "      <td>1.7727272727272727</td>\n",
       "      <td>32.59090909090909</td>\n",
       "      <td>131</td>\n",
       "      <td>0</td>\n",
       "      <td>0</td>\n",
       "    </tr>\n",
       "    <tr>\n",
       "      <th>3</th>\n",
       "      <td>/voti-e-risultati/1/risultati/giudizio-maggior...</td>\n",
       "      <td>24</td>\n",
       "      <td>16</td>\n",
       "      <td>1.5</td>\n",
       "      <td>17.625</td>\n",
       "      <td>53</td>\n",
       "      <td>0</td>\n",
       "      <td>0</td>\n",
       "    </tr>\n",
       "    <tr>\n",
       "      <th>4</th>\n",
       "      <td>/voti-e-risultati/2/vota/giudizio-maggioritario/</td>\n",
       "      <td>15</td>\n",
       "      <td>10</td>\n",
       "      <td>1.5</td>\n",
       "      <td>31.7</td>\n",
       "      <td>48</td>\n",
       "      <td>0</td>\n",
       "      <td>0</td>\n",
       "    </tr>\n",
       "  </tbody>\n",
       "</table>\n",
       "</div>"
      ],
      "text/plain": [
       "                  Percorso pagina e classe schermata Visualizzazioni Utenti  \\\n",
       "0                                                  /             339     52   \n",
       "1                                /gestione-sondaggi/              59     21   \n",
       "2   /voti-e-risultati/1/vota/giudizio-maggioritario/              39     22   \n",
       "3  /voti-e-risultati/1/risultati/giudizio-maggior...              24     16   \n",
       "4   /voti-e-risultati/2/vota/giudizio-maggioritario/              15     10   \n",
       "\n",
       "  Visualizzazioni per utente Durata media del coinvolgimento Conteggio eventi  \\\n",
       "0          6.519230769230769               85.76923076923077              991   \n",
       "1         2.8095238095238093               21.61904761904762              158   \n",
       "2         1.7727272727272727               32.59090909090909              131   \n",
       "3                        1.5                          17.625               53   \n",
       "4                        1.5                            31.7               48   \n",
       "\n",
       "  Conversioni Entrate totali  \n",
       "0           0              0  \n",
       "1           0              0  \n",
       "2           0              0  \n",
       "3           0              0  \n",
       "4           0              0  "
      ]
     },
     "execution_count": 74,
     "metadata": {},
     "output_type": "execute_result"
    }
   ],
   "source": [
    "users_on_pages.head(5)"
   ]
  },
  {
   "cell_type": "code",
   "execution_count": 75,
   "metadata": {},
   "outputs": [
    {
     "data": {
      "text/html": [
       "<div>\n",
       "<style scoped>\n",
       "    .dataframe tbody tr th:only-of-type {\n",
       "        vertical-align: middle;\n",
       "    }\n",
       "\n",
       "    .dataframe tbody tr th {\n",
       "        vertical-align: top;\n",
       "    }\n",
       "\n",
       "    .dataframe thead th {\n",
       "        text-align: right;\n",
       "    }\n",
       "</style>\n",
       "<table border=\"1\" class=\"dataframe\">\n",
       "  <thead>\n",
       "    <tr style=\"text-align: right;\">\n",
       "      <th></th>\n",
       "      <th>Titolo pagina e nome schermata</th>\n",
       "      <th>Visualizzazioni</th>\n",
       "      <th>Utenti</th>\n",
       "      <th>Visualizzazioni per utente</th>\n",
       "      <th>Durata media del coinvolgimento</th>\n",
       "      <th>Conteggio eventi</th>\n",
       "      <th>Conversioni</th>\n",
       "      <th>Entrate totali</th>\n",
       "    </tr>\n",
       "  </thead>\n",
       "  <tbody>\n",
       "    <tr>\n",
       "      <th>0</th>\n",
       "      <td>Crea e Vota Sondaggi | Vota Meglio</td>\n",
       "      <td>339</td>\n",
       "      <td>52</td>\n",
       "      <td>6.519230769230769</td>\n",
       "      <td>85.76923076923077</td>\n",
       "      <td>991</td>\n",
       "      <td>0</td>\n",
       "      <td>0</td>\n",
       "    </tr>\n",
       "    <tr>\n",
       "      <th>1</th>\n",
       "      <td>Gestione sondaggi | Vota Meglio</td>\n",
       "      <td>59</td>\n",
       "      <td>21</td>\n",
       "      <td>2.8095238095238093</td>\n",
       "      <td>21.61904761904762</td>\n",
       "      <td>158</td>\n",
       "      <td>0</td>\n",
       "      <td>0</td>\n",
       "    </tr>\n",
       "    <tr>\n",
       "      <th>2</th>\n",
       "      <td>Voto Giudizio Maggioritario | Vota Meglio</td>\n",
       "      <td>58</td>\n",
       "      <td>26</td>\n",
       "      <td>2.230769230769231</td>\n",
       "      <td>43.69230769230769</td>\n",
       "      <td>193</td>\n",
       "      <td>0</td>\n",
       "      <td>0</td>\n",
       "    </tr>\n",
       "    <tr>\n",
       "      <th>3</th>\n",
       "      <td>Risultati Giudizio Maggioritario | Vota Meglio</td>\n",
       "      <td>30</td>\n",
       "      <td>18</td>\n",
       "      <td>1.6666666666666667</td>\n",
       "      <td>28.77777777777778</td>\n",
       "      <td>71</td>\n",
       "      <td>0</td>\n",
       "      <td>0</td>\n",
       "    </tr>\n",
       "    <tr>\n",
       "      <th>4</th>\n",
       "      <td>Conferma voto Giudizio Maggioritario | Vota Me...</td>\n",
       "      <td>18</td>\n",
       "      <td>14</td>\n",
       "      <td>1.2857142857142858</td>\n",
       "      <td>8.071428571428571</td>\n",
       "      <td>49</td>\n",
       "      <td>0</td>\n",
       "      <td>0</td>\n",
       "    </tr>\n",
       "  </tbody>\n",
       "</table>\n",
       "</div>"
      ],
      "text/plain": [
       "                      Titolo pagina e nome schermata Visualizzazioni Utenti  \\\n",
       "0                 Crea e Vota Sondaggi | Vota Meglio             339     52   \n",
       "1                    Gestione sondaggi | Vota Meglio              59     21   \n",
       "2          Voto Giudizio Maggioritario | Vota Meglio              58     26   \n",
       "3     Risultati Giudizio Maggioritario | Vota Meglio              30     18   \n",
       "4  Conferma voto Giudizio Maggioritario | Vota Me...              18     14   \n",
       "\n",
       "  Visualizzazioni per utente Durata media del coinvolgimento Conteggio eventi  \\\n",
       "0          6.519230769230769               85.76923076923077              991   \n",
       "1         2.8095238095238093               21.61904761904762              158   \n",
       "2          2.230769230769231               43.69230769230769              193   \n",
       "3         1.6666666666666667               28.77777777777778               71   \n",
       "4         1.2857142857142858               8.071428571428571               49   \n",
       "\n",
       "  Conversioni Entrate totali  \n",
       "0           0              0  \n",
       "1           0              0  \n",
       "2           0              0  \n",
       "3           0              0  \n",
       "4           0              0  "
      ]
     },
     "execution_count": 75,
     "metadata": {},
     "output_type": "execute_result"
    }
   ],
   "source": [
    "users_on_pages_classes.head(5)"
   ]
  },
  {
   "attachments": {},
   "cell_type": "markdown",
   "metadata": {},
   "source": [
    "### Integrazione manuale di alcuni dati\n",
    "\n",
    "Per evitare inutili complicazioni, si integrano manualmente alcuni dati (copiandoli dalla dashboard di GA)"
   ]
  },
  {
   "cell_type": "code",
   "execution_count": 76,
   "metadata": {},
   "outputs": [],
   "source": [
    "total_n_users = 62"
   ]
  },
  {
   "attachments": {},
   "cell_type": "markdown",
   "metadata": {},
   "source": [
    "## KPI per la prospettiva del votante"
   ]
  },
  {
   "attachments": {},
   "cell_type": "markdown",
   "metadata": {},
   "source": [
    "### Metrica #01: % di utenti che hanno dato un voto con MJ\n",
    "\n",
    "Motivo: Ci aiuta a capire quanti dei nostri utenti conoscono MJ da votanti\n",
    "\n",
    "Formula: $\\frac{\\#\\text{ utenti che hanno dato almeno 1 voto con MJ}}{\\#\\text{ utenti tot}}$\n",
    "\n",
    "Note: \n",
    "- per ricavare il numero di utenti che hanno votato almeno 1 voto con MJ, guardiamo il nro di utenti osservati su tutte le pagine di nome \"Conferma voto Giudizio Maggioritario | Vota Meglio\" "
   ]
  },
  {
   "cell_type": "code",
   "execution_count": 77,
   "metadata": {},
   "outputs": [
    {
     "name": "stdout",
     "output_type": "stream",
     "text": [
      "# utenti che hanno dato almeno 1 voto con MJ:\t14\n",
      "% utenti che hanno dato almeno 1 voto con MJ:\t0.22\n"
     ]
    }
   ],
   "source": [
    "n_users_who_voted_MJ = int(users_on_pages_classes.loc[\n",
    "    users_on_pages_classes[\"Titolo pagina e nome schermata\"] == \\\n",
    "        \"Conferma voto Giudizio Maggioritario | Vota Meglio\", \n",
    "    \"Utenti\"\n",
    "].astype(int).values[0])\n",
    "\n",
    "print(f\"# utenti che hanno dato almeno 1 voto con MJ:\\t{n_users_who_voted_MJ}\")\n",
    "print(f\"% utenti che hanno dato almeno 1 voto con MJ:\\t\" + str(\n",
    "    int(n_users_who_voted_MJ/total_n_users*100)/100\n",
    "    ))"
   ]
  },
  {
   "attachments": {},
   "cell_type": "markdown",
   "metadata": {},
   "source": [
    "### Metrica #02: tasso di completamento del voto con MJ\n",
    "\n",
    "Motivo: ci permette di capire quanto il processo di voto con MJ viene portato a termine; si ricava confrontando il numero di voti ricevuti con il numero di utenti che ha visualizzato i vari sondaggi di tipo MJ.\n",
    "\n",
    "Formula: $\\frac{\\#\\text{ voti a sondaggi MJ}}{\\#\\text{ utenti sulle pagine di voto dei sondaggi MJ}}$\n",
    "\n",
    "Note:\n",
    "- per tracciare il numero di voti a sondaggi di tipo MJ sommiamo il numero di utenti sulle varie pagine di riepilogo voto (quelle aventi path \"/voti-e-risultati/*/riepilogo-voto/giudizio-maggioritario/\")\n",
    "- gli utenti sulle pagine di voto dei sondaggi MJ sono la somma di tutti gli utenti su pagine con path \"/voti-e-risultati/*/vota/giudizio-maggioritario/\"\n"
   ]
  },
  {
   "cell_type": "code",
   "execution_count": 79,
   "metadata": {},
   "outputs": [
    {
     "name": "stdout",
     "output_type": "stream",
     "text": [
      "# voti a sondaggi MJ:\t18\n",
      "# utenti sulle pagine di voto dei sondaggi MJ:\t35\n",
      "Tasso completamento processo voto MJ:\t0.51\n"
     ]
    }
   ],
   "source": [
    "votes_MJ = users_on_pages.loc[\n",
    "    users_on_pages[\"Percorso pagina e classe schermata\"].str.match(\n",
    "        \"/voti-e-risultati/.*/riepilogo-voto/giudizio-maggioritario/\"), \n",
    "    \"Utenti\"\n",
    "].astype(int).sum()\n",
    "\n",
    "users_who_started_MJ_vote = users_on_pages.loc[\n",
    "    users_on_pages[\"Percorso pagina e classe schermata\"].str.match(\n",
    "        \"/voti-e-risultati/.*/vota/giudizio-maggioritario/\"), \n",
    "    \"Utenti\"\n",
    "].astype(int).sum()\n",
    "\n",
    "\n",
    "print(f\"# voti a sondaggi MJ:\\t{votes_MJ}\") \n",
    "print(f\"# utenti sulle pagine di voto dei sondaggi MJ:\\t{users_who_started_MJ_vote}\") \n",
    "print(\"Tasso completamento processo voto MJ:\\t\" + \\\n",
    "    str(int(votes_MJ/users_who_started_MJ_vote*100)/100))"
   ]
  },
  {
   "attachments": {},
   "cell_type": "markdown",
   "metadata": {},
   "source": [
    "### Metrica #03: Quanti degli utenti che hanno votato sondaggi a scelta singola hanno dato anche un voto con il metodo MJ\n",
    "\n",
    "Motivo: visto che abbiamo deciso di \"suggerire\" di votare alcuni sondaggi a scelta singola anche tramite il metodo MJ, si può vedere che percentuale di utenti coglie questo suggerimento. Questa potrebbe essere una buona misura di quanto il MJ \n",
    "\n",
    "Formula: $\\frac{\\#\\text{ voti a sondaggi SO (*)}}{\\#\\text{ voti agli stessi sondaggi con MJ}}$\n",
    "\n",
    "Note:\n",
    "- (*) <-- Si contano solo i voti a sondaggi etichettati come \"votabili anche con MJ\"\n",
    "- per recuperare i voti dei sondaggi SO votabili anche tramite MJ si potrebbe selezionare i sondaggi il cui id appare sia nel path di conferma del voto SO (\"/voti-e-risultati/\\*/riepilogo-voto/opzione-singola/\") che nel path di converma del voto MJ (\"/voti-e-risultati/\\*/riepilogo-voto/giudizio-maggioritario/\")\n",
    "- questa metrica non è stata ancora calcolata per mancanza di dati\n"
   ]
  },
  {
   "attachments": {},
   "cell_type": "markdown",
   "metadata": {},
   "source": [
    "## KPI per la prospettiva del proponente"
   ]
  },
  {
   "attachments": {},
   "cell_type": "markdown",
   "metadata": {},
   "source": [
    "# Metrica #01: % sondaggi di tipo MJ tra quelli creati da utenti\n",
    "\n",
    "Motivo: è interessante vedere quanto effettivamente i proponenti di sondaggi scelgano il metodo del MJ per i sondaggi che creano.\n",
    "\n",
    "Formula: $\\frac{\\#\\text{ sondaggi MJ creati}}{\\#\\text{ sondaggi creati}}$\n",
    "\n",
    "Note:\n",
    "- per il momento non abbiamo perdisposto un metodo semplice per contare i sondaggi creati dalle visualizzazioni \n",
    "- un'idea per stimare i sondaggi creati potrebbe essere:\n",
    "  - contare tutti gli ID di sondaggio tramite i path di voto \n",
    "  - escludere gli ID dei sondaggi che sappiamo essere stati creati da noi\n",
    "- i sondaggi ad opzione singola si propone anche MJ possono contare come sondaggi MJ"
   ]
  },
  {
   "cell_type": "code",
   "execution_count": 92,
   "metadata": {},
   "outputs": [
    {
     "name": "stdout",
     "output_type": "stream",
     "text": [
      "# sondaggi MJ creati:\t1\n",
      "# sondaggi creati:\t2\n",
      "% sondaggi di tipo MJ:\t0.5\n"
     ]
    }
   ],
   "source": [
    "# polls I wanna exclude because I know they have \n",
    "# been created by us\n",
    "our_polls_ids = [\"1\", \"2\", \"3\"]\n",
    "\n",
    "n_mj_polls = 0\n",
    "n_polls = 0\n",
    "\n",
    "for path in users_on_pages.loc[\n",
    "        users_on_pages[\"Percorso pagina e classe schermata\"].str.match(\n",
    "            \"/voti-e-risultati/.*/vota/\"), \n",
    "        \"Percorso pagina e classe schermata\"\n",
    "    ].to_list():\n",
    "\n",
    "    # check id is not in exclude list\n",
    "    if path.split(\"/\")[2] in our_polls_ids:\n",
    "        continue\n",
    "\n",
    "    n_polls += 1\n",
    "    \n",
    "    if path.split(\"/\")[4] == \"giudizio-maggioritario\":\n",
    "        n_mj_polls += 1\n",
    "\n",
    "print(f\"# sondaggi MJ creati:\\t{n_mj_polls}\")\n",
    "print(f\"# sondaggi creati:\\t{n_polls}\")\n",
    "print(f\"% sondaggi di tipo MJ:\\t\" + \\\n",
    "    str(int(n_mj_polls/n_polls*100)/100))"
   ]
  },
  {
   "attachments": {},
   "cell_type": "markdown",
   "metadata": {},
   "source": [
    "## Altre proposte di metriche\n",
    "\n",
    "- numero di click verso link di approfondimento su come funziona il metodo del giudizio maggioritario (sia verso un'ipotetica pagina interna, sia verso link esterni)\n",
    "- numero di sondaggi \\[di tipo MJ\\] in rapporto al numero di visite al form di creazione; questa misura potrebbe essere utile per capire qual è la percentuale "
   ]
  }
 ],
 "metadata": {
  "kernelspec": {
   "display_name": "Python 3",
   "language": "python",
   "name": "python3"
  },
  "language_info": {
   "codemirror_mode": {
    "name": "ipython",
    "version": 3
   },
   "file_extension": ".py",
   "mimetype": "text/x-python",
   "name": "python",
   "nbconvert_exporter": "python",
   "pygments_lexer": "ipython3",
   "version": "3.8.0"
  },
  "orig_nbformat": 4,
  "vscode": {
   "interpreter": {
    "hash": "69c7d8f3a5d5d0ce6744287f9a99efeacacde2001b4ef0551e62ca6e39eb00c4"
   }
  }
 },
 "nbformat": 4,
 "nbformat_minor": 2
}
